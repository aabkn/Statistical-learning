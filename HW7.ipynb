{
 "cells": [
  {
   "cell_type": "code",
   "execution_count": 41,
   "metadata": {
    "collapsed": true
   },
   "outputs": [],
   "source": [
    "import pandas as pd\n",
    "import numpy as np\n",
    "from sklearn.ensemble import RandomForestClassifier\n",
    "from sklearn.tree import DecisionTreeClassifier\n",
    "from sklearn.metrics import roc_curve, auc, roc_auc_score\n",
    "import matplotlib.pyplot as plt"
   ]
  },
  {
   "cell_type": "code",
   "execution_count": 4,
   "metadata": {},
   "outputs": [
    {
     "data": {
      "text/html": [
       "<div>\n",
       "<style scoped>\n",
       "    .dataframe tbody tr th:only-of-type {\n",
       "        vertical-align: middle;\n",
       "    }\n",
       "\n",
       "    .dataframe tbody tr th {\n",
       "        vertical-align: top;\n",
       "    }\n",
       "\n",
       "    .dataframe thead th {\n",
       "        text-align: right;\n",
       "    }\n",
       "</style>\n",
       "<table border=\"1\" class=\"dataframe\">\n",
       "  <thead>\n",
       "    <tr style=\"text-align: right;\">\n",
       "      <th></th>\n",
       "      <th>Unnamed: 0</th>\n",
       "      <th>D8S1179</th>\n",
       "      <th>D21S11</th>\n",
       "      <th>D7S820</th>\n",
       "      <th>CSF1PO</th>\n",
       "      <th>D3S1358</th>\n",
       "      <th>TH01</th>\n",
       "      <th>D13S317</th>\n",
       "      <th>D16S539</th>\n",
       "      <th>D2S1338</th>\n",
       "      <th>D19S433</th>\n",
       "      <th>vWA</th>\n",
       "      <th>TPOX</th>\n",
       "      <th>D18S51</th>\n",
       "      <th>D5S818</th>\n",
       "      <th>FGA</th>\n",
       "      <th>population</th>\n",
       "    </tr>\n",
       "  </thead>\n",
       "  <tbody>\n",
       "    <tr>\n",
       "      <th>0</th>\n",
       "      <td>OT07760</td>\n",
       "      <td>21</td>\n",
       "      <td>59.0</td>\n",
       "      <td>17.0</td>\n",
       "      <td>21</td>\n",
       "      <td>34.0</td>\n",
       "      <td>13.0</td>\n",
       "      <td>22</td>\n",
       "      <td>23</td>\n",
       "      <td>41</td>\n",
       "      <td>30.2</td>\n",
       "      <td>33</td>\n",
       "      <td>19</td>\n",
       "      <td>35.0</td>\n",
       "      <td>24</td>\n",
       "      <td>47.0</td>\n",
       "      <td>Caucasian</td>\n",
       "    </tr>\n",
       "    <tr>\n",
       "      <th>1</th>\n",
       "      <td>PT84187</td>\n",
       "      <td>29</td>\n",
       "      <td>55.0</td>\n",
       "      <td>20.0</td>\n",
       "      <td>18</td>\n",
       "      <td>33.0</td>\n",
       "      <td>15.3</td>\n",
       "      <td>23</td>\n",
       "      <td>26</td>\n",
       "      <td>38</td>\n",
       "      <td>27.0</td>\n",
       "      <td>36</td>\n",
       "      <td>21</td>\n",
       "      <td>35.0</td>\n",
       "      <td>26</td>\n",
       "      <td>47.0</td>\n",
       "      <td>African American</td>\n",
       "    </tr>\n",
       "    <tr>\n",
       "      <th>2</th>\n",
       "      <td>UA16921</td>\n",
       "      <td>22</td>\n",
       "      <td>60.0</td>\n",
       "      <td>19.0</td>\n",
       "      <td>21</td>\n",
       "      <td>32.0</td>\n",
       "      <td>16.0</td>\n",
       "      <td>22</td>\n",
       "      <td>22</td>\n",
       "      <td>46</td>\n",
       "      <td>25.0</td>\n",
       "      <td>33</td>\n",
       "      <td>21</td>\n",
       "      <td>25.0</td>\n",
       "      <td>22</td>\n",
       "      <td>40.0</td>\n",
       "      <td>Caucasian</td>\n",
       "    </tr>\n",
       "    <tr>\n",
       "      <th>3</th>\n",
       "      <td>PT83880</td>\n",
       "      <td>26</td>\n",
       "      <td>61.2</td>\n",
       "      <td>17.0</td>\n",
       "      <td>20</td>\n",
       "      <td>31.0</td>\n",
       "      <td>16.0</td>\n",
       "      <td>21</td>\n",
       "      <td>22</td>\n",
       "      <td>44</td>\n",
       "      <td>27.0</td>\n",
       "      <td>35</td>\n",
       "      <td>19</td>\n",
       "      <td>28.0</td>\n",
       "      <td>22</td>\n",
       "      <td>47.0</td>\n",
       "      <td>African American</td>\n",
       "    </tr>\n",
       "    <tr>\n",
       "      <th>4</th>\n",
       "      <td>Y6</td>\n",
       "      <td>29</td>\n",
       "      <td>63.2</td>\n",
       "      <td>20.0</td>\n",
       "      <td>24</td>\n",
       "      <td>33.0</td>\n",
       "      <td>15.3</td>\n",
       "      <td>26</td>\n",
       "      <td>24</td>\n",
       "      <td>43</td>\n",
       "      <td>28.0</td>\n",
       "      <td>34</td>\n",
       "      <td>16</td>\n",
       "      <td>28.0</td>\n",
       "      <td>25</td>\n",
       "      <td>43.0</td>\n",
       "      <td>Caucasian</td>\n",
       "    </tr>\n",
       "  </tbody>\n",
       "</table>\n",
       "</div>"
      ],
      "text/plain": [
       "  Unnamed: 0  D8S1179  D21S11  D7S820  CSF1PO  D3S1358  TH01  D13S317  \\\n",
       "0    OT07760       21    59.0    17.0      21     34.0  13.0       22   \n",
       "1    PT84187       29    55.0    20.0      18     33.0  15.3       23   \n",
       "2    UA16921       22    60.0    19.0      21     32.0  16.0       22   \n",
       "3    PT83880       26    61.2    17.0      20     31.0  16.0       21   \n",
       "4         Y6       29    63.2    20.0      24     33.0  15.3       26   \n",
       "\n",
       "   D16S539  D2S1338  D19S433  vWA  TPOX  D18S51  D5S818   FGA  \\\n",
       "0       23       41     30.2   33    19    35.0      24  47.0   \n",
       "1       26       38     27.0   36    21    35.0      26  47.0   \n",
       "2       22       46     25.0   33    21    25.0      22  40.0   \n",
       "3       22       44     27.0   35    19    28.0      22  47.0   \n",
       "4       24       43     28.0   34    16    28.0      25  43.0   \n",
       "\n",
       "         population  \n",
       "0         Caucasian  \n",
       "1  African American  \n",
       "2         Caucasian  \n",
       "3  African American  \n",
       "4         Caucasian  "
      ]
     },
     "execution_count": 4,
     "metadata": {},
     "output_type": "execute_result"
    }
   ],
   "source": [
    "train = pd.read_csv('prac7Train.csv')\n",
    "test = pd.read_csv('prac7Test.csv')\n",
    "train.head()"
   ]
  },
  {
   "cell_type": "code",
   "execution_count": 20,
   "metadata": {},
   "outputs": [
    {
     "data": {
      "text/plain": [
       "(0.7751479289940828, 0.9255014326647565)"
      ]
     },
     "execution_count": 20,
     "metadata": {},
     "output_type": "execute_result"
    }
   ],
   "source": [
    "X_train, y_train = train.drop(columns=['population', 'Unnamed: 0']), train['population']\n",
    "X_test, y_test = test.drop(columns=['population', 'Unnamed: 0']), test['population']\n",
    "treemodel = DecisionTreeClassifier(max_depth=7, random_state=0)\n",
    "treemodel.fit(X_train, y_train)\n",
    "treemodel.score(X_test, y_test), treemodel.score(X_train, y_train)"
   ]
  },
  {
   "cell_type": "code",
   "execution_count": 19,
   "metadata": {},
   "outputs": [
    {
     "data": {
      "text/plain": [
       "(0.7869822485207101, 0.9885386819484241)"
      ]
     },
     "execution_count": 19,
     "metadata": {},
     "output_type": "execute_result"
    }
   ],
   "source": [
    "forestmodel = RandomForestClassifier(max_depth=7, random_state=0)\n",
    "forestmodel.fit(X_train, y_train)\n",
    "forestmodel.score(X_test, y_test), forestmodel.score(X_train, y_train)"
   ]
  },
  {
   "cell_type": "code",
   "execution_count": 38,
   "metadata": {
    "collapsed": true
   },
   "outputs": [],
   "source": [
    "y_prob = forestmodel.predict_proba(X_test)[:, 1]\n",
    "y = y_test.copy()\n",
    "y[y_test == 'Caucasian'] = 1\n",
    "y[y_test == 'African American'] = 0\n",
    "y = y.astype(int)\n",
    "fpr, tpr, _ = roc_curve(y, y_prob)\n",
    "roc_auc = auc(fpr, tpr)"
   ]
  },
  {
   "cell_type": "code",
   "execution_count": 43,
   "metadata": {},
   "outputs": [
    {
     "data": {
      "text/plain": [
       "[<matplotlib.lines.Line2D at 0x1a1f409ad0>]"
      ]
     },
     "execution_count": 43,
     "metadata": {},
     "output_type": "execute_result"
    },
    {
     "data": {
      "image/png": "[encoded data removed]",
      "text/plain": [
       "<Figure size 432x288 with 1 Axes>"
      ]
     },
     "metadata": {
      "needs_background": "light"
     },
     "output_type": "display_data"
    }
   ],
   "source": [
    "plt.plot(fpr, tpr, label='ROC curve (area = %0.2f)' % roc_auc)\n",
    "plt.plot([0, 1], [0, 1], color='navy', linestyle='--')"
   ]
  }
 ],
 "metadata": {
  "kernelspec": {
   "display_name": "Python 3",
   "language": "python",
   "name": "python3"
  },
  "language_info": {
   "codemirror_mode": {
    "name": "ipython",
    "version": 3
   },
   "file_extension": ".py",
   "mimetype": "text/x-python",
   "name": "python",
   "nbconvert_exporter": "python",
   "pygments_lexer": "ipython3",
   "version": "3.6.2"
  }
 },
 "nbformat": 4,
 "nbformat_minor": 4
}
